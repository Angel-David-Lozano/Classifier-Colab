{
  "cells": [
    {
      "cell_type": "markdown",
      "metadata": {
        "id": "view-in-github",
        "colab_type": "text"
      },
      "source": [
        "<a href=\"https://colab.research.google.com/github/Angel-David-Lozano/Classifier-Colab/blob/main/YOLO%20-%20Parking.ipynb\" target=\"_parent\"><img src=\"https://colab.research.google.com/assets/colab-badge.svg\" alt=\"Open In Colab\"/></a>"
      ]
    },
    {
      "cell_type": "code",
      "execution_count": null,
      "metadata": {
        "colab": {
          "base_uri": "https://localhost:8080/"
        },
        "id": "RDcBrsOBM5Ro",
        "outputId": "3ff9afb0-ef62-401c-b2ad-3605b4b47f51"
      },
      "outputs": [
        {
          "output_type": "stream",
          "name": "stdout",
          "text": [
            "Mounted at /content/gdrive\n",
            "/content/gdrive/MyDrive\n"
          ]
        }
      ],
      "source": [
        "from google.colab import drive\n",
        "drive.mount(\"/content/gdrive\")\n",
        "%cd /content/gdrive/MyDrive        "
      ]
    },
    {
      "cell_type": "code",
      "execution_count": null,
      "metadata": {
        "id": "syaCEcxUPuZ2",
        "colab": {
          "base_uri": "https://localhost:8080/"
        },
        "outputId": "ea8d4af5-3efe-43e3-8c6e-db116eb1e7bd"
      },
      "outputs": [
        {
          "output_type": "stream",
          "name": "stdout",
          "text": [
            "[Errno 2] No such file or directory: '{}/yolov7.format(proyect_name)'\n",
            "/content/gdrive/MyDrive\n"
          ]
        }
      ],
      "source": [
        "import os\n",
        "\n",
        "proyect_name = \"Parking\"                            ##Nombre del proyecto\n",
        "\n",
        "if not os.path.isdir(proyect_name):\n",
        "  os.makedirs(proyect_name)\n",
        "  %cd Parking\n",
        "  !git clone https://github.com/WongKinYiu/yolov7.git\n",
        "  %cd yolov7\n",
        "else:\n",
        "  %cd "
      ]
    },
    {
      "cell_type": "code",
      "source": [
        "if not os.path.exists(\"yolov7.pt\"):               ##Desacrga los pesos \"weigths\" del modelo\n",
        "  !wget https://github.com/WongKinYiu/yolov7/releases/download/v0.1/yolov7.pt"
      ],
      "metadata": {
        "id": "B1GoilgyCu8s"
      },
      "execution_count": null,
      "outputs": []
    },
    {
      "cell_type": "code",
      "execution_count": null,
      "metadata": {
        "id": "oL7fwLnMStOz"
      },
      "outputs": [],
      "source": [
        "##Ejutar la primera vez para empezar a enterenar\n",
        "!python train.py --device 0 --batch-size 16 --epochs 300 --img 640 640 --name yolo7parking --data data/parking.yaml --cfg cfg/training/parking.yaml --weights yolov7.pt --hyp data/hyp.scratch.custom.yaml\n"
      ]
    },
    {
      "cell_type": "code",
      "execution_count": null,
      "metadata": {
        "id": "yviFL6XOStis"
      },
      "outputs": [],
      "source": [
        "##Ejecuatar para reiniciar entrenamientpo\n",
        "!python train.py --resume"
      ]
    },
    {
      "cell_type": "code",
      "source": [
        "##Ejecutar detection despues de entrenamiento\n",
        "!python detect.py --weights runs/train/yolo7parking4/weights/best.pt --conf 0.5 --img-size 640 --no-trace --source data/test/images/2012-09-11_15_53_00_jpg.rf.8537f6252c0519cea23fa12293bbe52b.jpg"
      ],
      "metadata": {
        "id": "RnXL7J-sFHG4"
      },
      "execution_count": null,
      "outputs": []
    },
    {
      "cell_type": "code",
      "source": [
        "%cd /content/gdrive/MyDrive/Parking/yolov7"
      ],
      "metadata": {
        "colab": {
          "base_uri": "https://localhost:8080/"
        },
        "id": "jU3K9o4rs7lO",
        "outputId": "9cb8749c-ca3c-480a-9945-da742312b74d"
      },
      "execution_count": null,
      "outputs": [
        {
          "output_type": "stream",
          "name": "stdout",
          "text": [
            "/content/gdrive/MyDrive/Parking/yolov7\n"
          ]
        }
      ]
    }
  ],
  "metadata": {
    "accelerator": "GPU",
    "colab": {
      "provenance": [],
      "authorship_tag": "ABX9TyO13NQmFYuHLG0E9F+eZxTG",
      "include_colab_link": true
    },
    "kernelspec": {
      "display_name": "Python 3",
      "name": "python3"
    },
    "language_info": {
      "name": "python"
    }
  },
  "nbformat": 4,
  "nbformat_minor": 0
}