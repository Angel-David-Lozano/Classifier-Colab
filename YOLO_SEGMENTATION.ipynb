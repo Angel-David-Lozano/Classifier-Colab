{
  "nbformat": 4,
  "nbformat_minor": 0,
  "metadata": {
    "colab": {
      "provenance": [],
      "authorship_tag": "ABX9TyPXymhReNI/NGn+gBdoOJFp",
      "include_colab_link": true
    },
    "kernelspec": {
      "name": "python3",
      "display_name": "Python 3"
    },
    "language_info": {
      "name": "python"
    },
    "accelerator": "GPU",
    "gpuClass": "standard"
  },
  "cells": [
    {
      "cell_type": "markdown",
      "metadata": {
        "id": "view-in-github",
        "colab_type": "text"
      },
      "source": [
        "<a href=\"https://colab.research.google.com/github/Angel-David-Lozano/Classifier-Colab/blob/main/YOLO_SEGMENTATION.ipynb\" target=\"_parent\"><img src=\"https://colab.research.google.com/assets/colab-badge.svg\" alt=\"Open In Colab\"/></a>"
      ]
    },
    {
      "cell_type": "code",
      "execution_count": null,
      "metadata": {
        "colab": {
          "base_uri": "https://localhost:8080/"
        },
        "id": "TBxmUocOb0Tw",
        "outputId": "021bf4c9-4ca5-44ff-f6a8-6d160b69844c"
      },
      "outputs": [
        {
          "output_type": "stream",
          "name": "stdout",
          "text": [
            "Drive already mounted at /content/gdrive; to attempt to forcibly remount, call drive.mount(\"/content/gdrive\", force_remount=True).\n",
            "/content/gdrive/MyDrive\n"
          ]
        }
      ],
      "source": [
        "from google.colab import drive\n",
        "drive.mount(\"/content/gdrive\")\n",
        "%cd /content/gdrive/MyDrive    "
      ]
    },
    {
      "cell_type": "code",
      "source": [
        "import os\n",
        "\n",
        "proyect_name = \"YOLOV7-SEGMENTATION\"                                              ##Nombre del proyecto\n",
        "\n",
        "if not os.path.isdir(proyect_name):\n",
        "  os.makedirs(proyect_name)\n",
        "  %cd $proyect_name\n",
        "  !wget https://github.com/WongKinYiu/yolov7/archive/refs/heads/mask.zip          ##YOLOV7\n",
        "  !unzip mask\n",
        "\n",
        "  !git clone https://github.com/facebookresearch/detectron2.git                   ##DETECTRON2\n",
        "\n",
        "else:\n",
        "  %cd $proyect_name"
      ],
      "metadata": {
        "colab": {
          "base_uri": "https://localhost:8080/"
        },
        "collapsed": true,
        "id": "pas3399wcHdO",
        "outputId": "5083ffbe-c29c-4a34-ecc7-ee727a847500"
      },
      "execution_count": null,
      "outputs": [
        {
          "output_type": "stream",
          "name": "stdout",
          "text": [
            "/content/gdrive/MyDrive/YOLOV7-SEGMENTATION\n"
          ]
        }
      ]
    },
    {
      "cell_type": "code",
      "source": [
        "%cd\n",
        "%cd /content/gdrive/MyDrive/YOLOV7-SEGMENTATION/detectron2\n",
        "\n",
        "!pip install -e.                                          ##Instala y configura modulo"
      ],
      "metadata": {
        "id": "AAjcPP7atxUl"
      },
      "execution_count": null,
      "outputs": []
    },
    {
      "cell_type": "code",
      "source": [
        "%cd\n",
        "%cd /content/gdrive/MyDrive/YOLOV7-SEGMENTATION/yolov7-mask/\n",
        "\n",
        "if not os.path.exists(\"yolov7-mask.pt\"):                                          ##Desacrga los pesos \"weigths\" del modelo\n",
        "  !wget https://github.com/WongKinYiu/yolov7/releases/download/v0.1/yolov7-mask.pt\n",
        "  !wget https://github.com/WongKinYiu/yolov7/releases/download/v0.1/yolov7.pt"
      ],
      "metadata": {
        "colab": {
          "base_uri": "https://localhost:8080/"
        },
        "id": "r8aB8G1qvRe3",
        "outputId": "f17112ee-e028-43ad-f3bf-fd91cc45dc5e"
      },
      "execution_count": null,
      "outputs": [
        {
          "output_type": "stream",
          "name": "stdout",
          "text": [
            "/root\n",
            "/content/gdrive/MyDrive/YOLOV7-SEGMENTATION/yolov7-mask\n"
          ]
        }
      ]
    },
    {
      "cell_type": "code",
      "source": [
        "!python segment.py --source files/Tiago.mp4  "
      ],
      "metadata": {
        "id": "8xqOFS5_wqrL"
      },
      "execution_count": null,
      "outputs": []
    }
  ]
}