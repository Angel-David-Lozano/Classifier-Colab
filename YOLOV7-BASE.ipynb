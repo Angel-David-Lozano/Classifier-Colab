{
  "nbformat": 4,
  "nbformat_minor": 0,
  "metadata": {
    "colab": {
      "provenance": [],
      "authorship_tag": "ABX9TyNqB2/eaGdAerrXUmYDfQ78",
      "include_colab_link": true
    },
    "kernelspec": {
      "name": "python3",
      "display_name": "Python 3"
    },
    "language_info": {
      "name": "python"
    },
    "accelerator": "GPU",
    "gpuClass": "standard"
  },
  "cells": [
    {
      "cell_type": "markdown",
      "metadata": {
        "id": "view-in-github",
        "colab_type": "text"
      },
      "source": [
        "<a href=\"https://colab.research.google.com/github/Angel-David-Lozano/Classifier-Colab/blob/main/YOLOV7-BASE.ipynb\" target=\"_parent\"><img src=\"https://colab.research.google.com/assets/colab-badge.svg\" alt=\"Open In Colab\"/></a>"
      ]
    },
    {
      "cell_type": "code",
      "execution_count": null,
      "metadata": {
        "colab": {
          "base_uri": "https://localhost:8080/"
        },
        "id": "BH4JXuAJJXOn",
        "outputId": "c07bb9bb-cb1a-40ff-82f1-49e82976e2f6"
      },
      "outputs": [
        {
          "output_type": "stream",
          "name": "stdout",
          "text": [
            "Mounted at /content/gdrive\n"
          ]
        }
      ],
      "source": [
        "from google.colab import drive          ##Conecta a su cuenta de Google\n",
        "\n",
        "drive.mount('/content/gdrive')"
      ]
    },
    {
      "cell_type": "code",
      "source": [
        "%cd /content/gdrive/MyDrive           "
      ],
      "metadata": {
        "colab": {
          "base_uri": "https://localhost:8080/"
        },
        "id": "JRmh6HulK3-p",
        "outputId": "dc701b8b-aa87-42d8-f8fd-5a9caf749ef9"
      },
      "execution_count": null,
      "outputs": [
        {
          "output_type": "stream",
          "name": "stdout",
          "text": [
            "/content/gdrive/MyDrive\n"
          ]
        }
      ]
    },
    {
      "cell_type": "code",
      "source": [
        "import os                                   ##Crea carpeta \"YOLOV7\" y descarga modelo\n",
        "\n",
        "if not os.path.isdir(\"YOLOV7\"):\n",
        "  os.makedirs(\"YOLOV7\")\n",
        "  %cd YOLOV7\n",
        "  !git clone https://github.com/WongKinYiu/yolov7.git\n",
        "  %cd yolov7\n",
        "else:                                      ##Si la carpeta ya existe, ingresa a la ingresa a la carpeta \"YOLOV&\"\n",
        "  %cd YOLOV7/yolov7"
      ],
      "metadata": {
        "id": "IJHjcAvSLaGR",
        "colab": {
          "base_uri": "https://localhost:8080/"
        },
        "outputId": "c995872f-43d1-4d94-f32a-49b22a4460df"
      },
      "execution_count": null,
      "outputs": [
        {
          "output_type": "stream",
          "name": "stdout",
          "text": [
            "/content/gdrive/MyDrive/YOLOV7/yolov7\n"
          ]
        }
      ]
    },
    {
      "cell_type": "code",
      "source": [
        "if not os.path.exists(\"yolov7.pt\"):               ##Desacrga los pesos \"weigths\" del modelo\n",
        "  !wget https://github.com/WongKinYiu/yolov7/releases/download/v0.1/yolov7.pt"
      ],
      "metadata": {
        "id": "yQjiFE7jRHii"
      },
      "execution_count": null,
      "outputs": []
    },
    {
      "cell_type": "code",
      "source": [
        "!python detect.py --weights yolov7.pt --conf 0.3 --img-size 640 --source 0   ##Comando base para iniciar detecciones"
      ],
      "metadata": {
        "colab": {
          "base_uri": "https://localhost:8080/"
        },
        "id": "TR9QjnYYL47h",
        "outputId": "10756eda-07d9-4ed4-c1c4-3d5e364560aa"
      },
      "execution_count": null,
      "outputs": [
        {
          "output_type": "stream",
          "name": "stdout",
          "text": [
            "python3: can't open file 'detect.py': [Errno 2] No such file or directory\n"
          ]
        }
      ]
    }
  ]
}